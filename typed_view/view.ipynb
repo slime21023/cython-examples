{
 "cells": [
  {
   "cell_type": "code",
   "execution_count": 1,
   "id": "19b3c3a1-343d-4c45-b678-f40e49a67796",
   "metadata": {},
   "outputs": [],
   "source": [
    "%load_ext Cython"
   ]
  },
  {
   "cell_type": "code",
   "execution_count": 25,
   "id": "f8d32d46-0d69-44b7-93c0-9b967e0a0587",
   "metadata": {},
   "outputs": [
    {
     "name": "stdout",
     "output_type": "stream",
     "text": [
      "1.0\n",
      "2.0\n",
      "3.0\n",
      "4.0\n",
      "5.0\n",
      "6.0\n",
      "7.0\n"
     ]
    }
   ],
   "source": [
    "%%cython\n",
    "import numpy as np\n",
    "cimport numpy as cnp\n",
    "ctypedef cnp.float64_t f64\n",
    "\n",
    "cdef printArray(f64[:] A):\n",
    "    cdef int count = 0\n",
    "    cdef f64[:] a = A.copy()\n",
    "    for count in range(A.shape[0]):\n",
    "        print(a[count])\n",
    "    \n",
    "a = np.array([1,2,3,4,5,6,7], dtype=np.float64)\n",
    "\n",
    "printArray(a)"
   ]
  },
  {
   "cell_type": "code",
   "execution_count": 63,
   "id": "ecffc674-6919-4a0d-9130-961f69576923",
   "metadata": {},
   "outputs": [],
   "source": [
    "%%cython\n",
    "\n",
    "cdef class INT:\n",
    "    cdef int data\n",
    "    \n",
    "    def __cinit__(self, int data):\n",
    "        self.data = data\n",
    "        \n",
    "    def add(self, INT i):\n",
    "        self.data += i.data\n",
    "    \n",
    "    def value(self):\n",
    "        return self.data\n",
    "    \n",
    "cdef class NINT:\n",
    "    cdef INT i\n",
    "    \n",
    "    def __cinit__(self, INT i):\n",
    "        self.i = i\n",
    "    \n",
    "    def value(self):\n",
    "        return -self.i.data\n",
    "\n",
    "a = INT(10)\n",
    "b = INT(11)\n",
    "a.add(b)\n",
    "print(a.value())\n",
    "\n",
    "c = NINT(a)\n",
    "print(c.value())\n",
    "del c\n",
    "print(a.value())"
   ]
  },
  {
   "cell_type": "code",
   "execution_count": 58,
   "id": "a8acc239-2ea1-423a-8241-6366429424c3",
   "metadata": {},
   "outputs": [
    {
     "name": "stdout",
     "output_type": "stream",
     "text": [
      "True\n"
     ]
    }
   ],
   "source": [
    "%%cython\n",
    "import numpy as np\n",
    "cimport numpy as cnp\n",
    "ctypedef cnp.float64_t f64\n",
    "\n",
    "cdef class Rect:\n",
    "    cdef public f64[:] mins\n",
    "    cdef public f64[:] maxs\n",
    "    \n",
    "    def __cinit__(self, f64[:] mins, f64[:] maxs):\n",
    "        self.mins = mins.copy()\n",
    "        self.maxs = maxs.copy()\n",
    "        \n",
    "    # cdef bool is_overlapping(self, Rect o):\n",
    "    def is_overlapping(self, Rect o):\n",
    "        cdef int dim = 0\n",
    "        cdef bint result = True\n",
    "        cdef bint condition_one = True\n",
    "        cdef bint condition_two = True\n",
    "        \n",
    "        for dim in range(self.mins.shape[0]):\n",
    "            condition_one = not (o.mins[dim] <= self.mins[dim] and self.mins[dim] <= o.maxs[dim])\n",
    "            condition_two = not (self.mins[dim] <= o.mins[dim] and o.mins[dim] <= self.maxs[dim])\n",
    "            if not (condition_one or condition_two):\n",
    "                result = False\n",
    "                break\n",
    "        \n",
    "        return result\n",
    "        \n",
    "\n",
    "cdef Rect A = Rect(\n",
    "    np.array([0,0,0], dtype=np.float64),\n",
    "    np.array([3,3,3], dtype=np.float64),\n",
    ")\n",
    "\n",
    "cdef Rect B = Rect(\n",
    "    np.array([2,2,2], dtype=np.float64),\n",
    "    np.array([4,4,4], dtype=np.float64),\n",
    ")\n",
    "\n",
    "print(A.is_overlapping(B))\n"
   ]
  }
 ],
 "metadata": {
  "kernelspec": {
   "display_name": "Python 3 (ipykernel)",
   "language": "python",
   "name": "python3"
  },
  "language_info": {
   "codemirror_mode": {
    "name": "ipython",
    "version": 3
   },
   "file_extension": ".py",
   "mimetype": "text/x-python",
   "name": "python",
   "nbconvert_exporter": "python",
   "pygments_lexer": "ipython3",
   "version": "3.9.7"
  }
 },
 "nbformat": 4,
 "nbformat_minor": 5
}
